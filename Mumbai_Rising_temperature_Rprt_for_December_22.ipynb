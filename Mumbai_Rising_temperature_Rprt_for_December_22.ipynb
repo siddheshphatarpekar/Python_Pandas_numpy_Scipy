{
  "metadata": {
    "language_info": {
      "codemirror_mode": {
        "name": "python",
        "version": 3
      },
      "file_extension": ".py",
      "mimetype": "text/x-python",
      "name": "python",
      "nbconvert_exporter": "python",
      "pygments_lexer": "ipython3",
      "version": "3.8"
    },
    "kernelspec": {
      "name": "python",
      "display_name": "Python (Pyodide)",
      "language": "python"
    }
  },
  "nbformat_minor": 4,
  "nbformat": 4,
  "cells": [
    {
      "cell_type": "code",
      "source": "import pandas as pd\nimport matplotlib.pyplot as plt\n\ndf = pd.read_csv(r'https://raw.githubusercontent.com/siddheshphatarpekar/Dataset/main/Mumbai_Temp_December_2022.csv',header=[0,1])\ndf1 = pd.read_csv(r'https://raw.githubusercontent.com/siddheshphatarpekar/Dataset/main/Mumbai_Temp_December_2022.csv',header=[0,1])\ndf.columns = df.columns.map('_'.join)\n''' converting Fahrenheit to Celsius (45°F − 32) × 5/9'''\nconvert_to_cel_max_temp = (df['Temperature (°F)_Max'] - 32) * 5/9\nconvert_to_cel_min_temp = (df['Temperature (°F)_Min'] - 32) * 5/9\n\nfig,aix = plt.subplots(2,2,figsize=(15, 10))\nfig.suptitle(\"Temperature & Humidity (Mumbai) December 1-17\", fontsize=15)\n\naix[0,0].set_title('Temperature')\naix[0,0].set_xticks(df['Time_Dec']) \naix[0,0].set_xlabel('Days')\naix[0,0].set_ylabel('Celsius')\naix[0,0].plot(df['Time_Dec'],convert_to_cel_max_temp,label=\"Max\")\naix[0,0].plot(df['Time_Dec'],convert_to_cel_min_temp,label=\"Min\")\naix[0,1].set_title('Humidity')\naix[0,1].set_xticks(df['Time_Dec']) \naix[0,1].set_xlabel('Days')\naix[0,1].set_ylabel('Humidity')\naix[0,1].plot(df['Time_Dec'],df['Humidity (%)_Max'])\naix[0,1].plot(df['Time_Dec'],df['Humidity (%)_Min'])\naix[1,0].set_title('Wind Speed')\naix[1,0].set_xticks(df['Time_Dec']) \naix[1,0].set_xlabel('Days')\naix[1,0].set_ylabel('Wind Speed')\naix[1,0].plot(df['Time_Dec'],df['Wind Speed (mph)_Max'])\naix[1,0].plot(df['Time_Dec'],df['Wind Speed (mph)_Avg'])\naix[1,1].set_title('Pressure')\naix[1,1].set_xticks(df['Time_Dec']) \naix[1,1].set_xlabel('Days')\naix[1,1].set_ylabel('Pressure')\naix[1,1].plot(df['Time_Dec'],df['Pressure (in)_Max'])\naix[1,1].plot(df['Time_Dec'],df['Pressure (in)_Min'])\nplt.show()\nprint('Before joining the rows heading & subheading')\nprint(df1.head(1))\nprint('After joining the rows with _')\nprint(df.head(1))\n",
      "metadata": {
        "trusted": true
      },
      "execution_count": null,
      "outputs": []
    },
    {
      "cell_type": "code",
      "source": "",
      "metadata": {},
      "execution_count": null,
      "outputs": []
    }
  ]
}