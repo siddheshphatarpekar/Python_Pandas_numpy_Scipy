import pandas as pd
import matplotlib.pyplot as plt

df = pd.read_csv(r'https://raw.githubusercontent.com/siddheshphatarpekar/Dataset/main/Mumbai_Temp_December_2022.csv',header=[0,1])
df1 = pd.read_csv(r'https://raw.githubusercontent.com/siddheshphatarpekar/Dataset/main/Mumbai_Temp_December_2022.csv',header=[0,1])
df.columns = df.columns.map('_'.join)
''' converting Fahrenheit to Celsius (45°F − 32) × 5/9'''
convert_to_cel_max_temp = (df['Temperature (°F)_Max'] - 32) * 5/9
convert_to_cel_min_temp = (df['Temperature (°F)_Min'] - 32) * 5/9

fig,aix = plt.subplots(2,2,figsize=(15, 10))
fig.suptitle("Temperature & Humidity (Mumbai) December 1-17", fontsize=15)

aix[0,0].set_title('Temperature')
aix[0,0].set_xticks(df['Time_Dec']) 
aix[0,0].set_xlabel('Days')
aix[0,0].set_ylabel('Celsius')
aix[0,0].plot(df['Time_Dec'],convert_to_cel_max_temp,label="Max")
aix[0,0].plot(df['Time_Dec'],convert_to_cel_min_temp,label="Min")
aix[0,1].set_title('Humidity')
aix[0,1].set_xticks(df['Time_Dec']) 
aix[0,1].set_xlabel('Days')
aix[0,1].set_ylabel('Humidity')
aix[0,1].plot(df['Time_Dec'],df['Humidity (%)_Max'])
aix[0,1].plot(df['Time_Dec'],df['Humidity (%)_Min'])
aix[1,0].set_title('Wind Speed')
aix[1,0].set_xticks(df['Time_Dec']) 
aix[1,0].set_xlabel('Days')
aix[1,0].set_ylabel('Wind Speed')
aix[1,0].plot(df['Time_Dec'],df['Wind Speed (mph)_Max'])
aix[1,0].plot(df['Time_Dec'],df['Wind Speed (mph)_Avg'])
aix[1,1].set_title('Pressure')
aix[1,1].set_xticks(df['Time_Dec']) 
aix[1,1].set_xlabel('Days')
aix[1,1].set_ylabel('Pressure')
aix[1,1].plot(df['Time_Dec'],df['Pressure (in)_Max'])
aix[1,1].plot(df['Time_Dec'],df['Pressure (in)_Min'])
plt.show()
print('Before joining the rows heading & subheading')
print(df1.head(1))
print('After joining the rows with _')
print(df.head(1))
