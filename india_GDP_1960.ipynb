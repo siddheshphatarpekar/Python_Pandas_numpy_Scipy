# -*- coding: utf-8 -*-
"""
Spyder Editor

This is a temporary script file.
"""

import pandas as pd 
import matplotlib.pyplot as plt
df = pd.read_csv(r'https://raw.githubusercontent.com/siddheshphatarpekar/Dataset/main/India_GDP_1960-2022.csv')


fig,ax = plt.subplots(3,1,figsize=(13,12))
'''fig.patch.set_facecolor('grey')'''
ax[0].set_title('India GDP Growth Report')
ax[0].set_facecolor('lightgrey')
ax[0].set_ylabel('Growth Percentage')
ax[0].set_xlabel('Year')
ax[0].plot(df['Year'],df['Growth %'],color='red')
ax[1].set_xlabel('Year')
ax[1].set_ylabel('GDP in (Billion) $')
ax[1].fill_between(df['Year'],df['GDP in (Billion) $'],0,alpha=.8, linewidth=1)
ax[2].set_xlabel('Year')
ax[2].set_ylabel('Per Capita in rupees')
ax[2].bar(df['Year'],df['Per Capita in rupees'])

plt.show()
print(df.head())
