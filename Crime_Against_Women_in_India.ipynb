import pandas as pd
import numpy as np
import matplotlib.pyplot as plt

df=pd.read_csv(r'https://raw.githubusercontent.com/siddheshphatarpekar/Dataset/main/crimes_against_women_2001-2014.csv')
drop_dist = df.drop(columns=['DISTRICT','Year'],inplace=True)
col = ['Dowry Deaths'
       ,'Cruelty by Husband or his Relatives'
       ,'Rape','Kidnapping and Abduction'
       ,'Assault on women with intent to outrage her modesty'
       ,'Insult to modesty of Women'
       ,'Importation of Girls']
df['Total'] = df[col].sum(axis=1).dropna()
state_wise_pvt=pd.pivot_table(df
                              ,index=['STATE/UT']
                              ,values=['Total'
                                       ,'Kidnapping and Abduction'
                                       ,'Rape'
                                       ,'Cruelty by Husband or his Relatives']
                              ,aggfunc=np.sum,dropna=True,sort=False)
state_wise_pvt.sort_values(by='Total'
                           ,ascending=False).head(5).plot(kind='barh',title='Crime Against Women in India',figsize=(15, 7))
plt.show()
print(state_wise_pvt.head(5))