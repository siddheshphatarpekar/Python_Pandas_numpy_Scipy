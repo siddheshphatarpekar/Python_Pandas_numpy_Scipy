import pandas as pd
import numpy as np
import matplotlib.pyplot as plt

df = pd.read_csv(r'https://raw.githubusercontent.com/siddheshphatarpekar/Dataset/main/annual-enterprise-survey-2021-financial-year-provisional-csv.csv')

df1 = df.pivot_table('Total',index='Finance',aggfunc=np.count_nonzero,columns=['Dollars (millions)']).plot()

plt.show()
