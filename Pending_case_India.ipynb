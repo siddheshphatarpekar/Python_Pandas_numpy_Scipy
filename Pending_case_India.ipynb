{
  "metadata": {
    "language_info": {
      "codemirror_mode": {
        "name": "python",
        "version": 3
      },
      "file_extension": ".py",
      "mimetype": "text/x-python",
      "name": "python",
      "nbconvert_exporter": "python",
      "pygments_lexer": "ipython3",
      "version": "3.8"
    },
    "kernelspec": {
      "name": "python",
      "display_name": "Python (Pyodide)",
      "language": "python"
    }
  },
  "nbformat_minor": 4,
  "nbformat": 4,
  "cells": [
    {
      "cell_type": "code",
      "source": "import pandas as pd\nimport numpy as np\nimport matplotlib.pyplot as plt\n\ndf=pd.read_csv(r'NDAP_REPORT_7150.csv').dropna()\ndf.replace(np.nan,0)\nplt.figure(figsize=[15,15])\nplt.xlabel('State')\nplt.ylabel('Pending Case (Count)')\nPending_cases_statewise=pd.pivot_table(df,index=['State']\n                             ,values=['Pending cases','Original pending cases']\n                             ,aggfunc=np.sum)\nPending_state_S=Pending_cases_statewise.sort_values(by='Pending cases',ascending=False)\n\nPending_cases_districtwise=df[(df['State'] == 'Uttar Pradesh')].pivot_table(index=['District']\n                             ,values=['Pending cases','Original pending cases']\n                             ,aggfunc=np.sum)\nPending_district_S=Pending_cases_districtwise.sort_values(by='Pending cases',ascending=False)\n\nPending_cases_type=df[(df['District and taluk court case type'] != 'Total')].pivot_table(index=['District and taluk court case type']\n                             ,values=['Pending cases','Original pending cases']\n                             ,aggfunc=np.sum)\nPending_type_S=Pending_cases_type.sort_values(by='Pending cases',ascending=False)\n\nprint('\\n')\nprint('Top 10 District in Uttar Pradesh With Pending Cases ')\nprint(Pending_district_S.head(10))\nprint('\\n')\nprint('Top 10 State with Pending Cases')\nprint(Pending_state_S.head(10))\nprint('\\n')\nprint(Pending_type_S.head())",
      "metadata": {
        "trusted": true
      },
      "execution_count": 63,
      "outputs": [
        {
          "name": "stdout",
          "text": "\n\nTop 10 District in Uttar Pradesh With Pending Cases \n                     Original pending cases  Pending cases\nDistrict                                                  \nLucknow                            751438.0       820078.0\nKanpur Nagar                       668522.0       767264.0\nPrayagraj                          588590.0       638172.0\nGorakhpur                          577472.0       625886.0\nAgra                               400660.0       517278.0\nGhaziabad                          439868.0       484126.0\nMeerut                             397456.0       453666.0\nGautam Buddha Nagar                388768.0       422118.0\nBareilly                           332376.0       403714.0\nJaunpur                            354272.0       398924.0\n\n\nTop 10 State with Pending Cases\n                Original pending cases  Pending cases\nState                                                \nUttar Pradesh               17206794.0     19177246.0\nMaharashtra                  7641314.0      9639032.0\nBihar                        6248368.0      6726232.0\nWest Bengal                  4690446.0      5094714.0\nRajasthan                    3233658.0      4013436.0\nGujarat                      3498360.0      3995140.0\nKerala                       3481888.0      3983504.0\nMadhya Pradesh               3207792.0      3692480.0\nKarnataka                    3005396.0      3678010.0\nOdisha                       2710664.0      3001936.0\n\n\n                                    Original pending cases  Pending cases\nDistrict and taluk court case type                                       \nCriminal                                        26803681.0     29447365.0\nCivil                                            7985327.0     10694703.0\n",
          "output_type": "stream"
        }
      ]
    },
    {
      "cell_type": "code",
      "source": "",
      "metadata": {},
      "execution_count": null,
      "outputs": []
    }
  ]
}